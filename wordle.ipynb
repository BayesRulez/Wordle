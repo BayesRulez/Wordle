{
 "cells": [
  {
   "cell_type": "markdown",
   "id": "e6672196-952b-4a4d-bd1d-25421bd47433",
   "metadata": {},
   "source": [
    "In this workbook I apply information theory to design an optimal strategy for playing Wordle.  I then evaluate the strategy across all possible Wordle games  and calculate the best score it is possible to achieve in the game.  Improving on this score is not possible, except by extreme fluke.\n",
    "\n",
    "In the game Wordle (https://www.nytimes.com/games/wordle/index.html) we are asked to guess a five letter word (\"the answer\") in six attempts.  Following each guess we are given feedback on our guesses telling us: any correct letters from the guess, any letters from the guess that exist somewhere else in the word and any letters that do not exist in the answer.\n",
    "\n",
    "Wordle has a set of valid answers, which can be seen in the source code of the page itself.  There are $2,315$ of them.  We will call this set of words $\\mathcal{W}^{\\left(0\\right)}$.  The superscript $^{\\left(0\\right)}$ denotes that this is the set of possible words _before any guesses have been taken_.  We will increment the superscript as we guess to denote the set of remaining possiblilities.  The size (cardinality) of this set is $\\Big|\\mathcal{W}^{\\left(0\\right)}\\Big| = N^{\\left(0\\right)}$.\n",
    "\n",
    "Let's denote the answer as $x = \\left(x_1, x_2, x_3, x_4, x_5\\right)$ where $x \\in \\mathcal{W}^{\\left(0\\right)}$.\n",
    "\n",
    "We get six attempts to guess $x$.  Call our guesses $g^{\\left(1\\right)}, \\cdots, g^{\\left(6\\right)}$ where $g^{\\left(a\\right)} = \\left(g^{\\left(a\\right)}_1, g^{\\left(a\\right)}_2, g^{\\left(a\\right)}_3, g^{\\left(a\\right)}_4, g^{\\left(a\\right)}_5 \\right)$.\n",
    "\n",
    "According to information theory the best guess we could take, at each attempt, is the one that will reduce the entropy of the possible set of answers the most.\n",
    "\n",
    "What is the entropy of $\\mathcal{W}^{\\left(a\\right)}$?  This is easy to calculate because we know that that $x \\sim \\text{Discrete}\\left(N^{\\left(a\\right)}\\right)$, therefore:\n",
    "\n",
    "\\begin{align}\n",
    "\\text{H}\\left(\\mathcal{W}^{\\left(a\\right)}\\right) &= -\\sum_{w \\in W^{\\left(a\\right)}} \\frac{1}{N^{\\left(a\\right)}} \\text{log}\\left(\\frac{1}{N^{\\left(a\\right)}}\\right) \\\\\n",
    "&= \\text{log}\\left(N^{\\left(a\\right)}\\right)\n",
    "\\end{align}\n",
    "\n",
    "When making our $a$th attempt (where $a$ is from $1$ to $6$) we have a set of candidate words $\\mathcal{W}^{\\left(a-1\\right)}$.  We make a guess, $g^{\\left(a\\right)}$.  For the moment, let's imagine that we are only guessing the $i$th letter in $x$.  Three outcomes are possible:\n",
    "\n",
    "1. $g^{\\left(a\\right)}_i$ is the correct letter in the correct position.\n",
    "2. $g^{\\left(a\\right)}_i$ exists in $x$ but is in the wrong position.\n",
    "3. $g^{\\left(a\\right)}_i$ does not exist in $x$.\n",
    "\n",
    "The information we gain from each of these outcomes reduces the number of possible words, and therefore the entropy of the word-distribution.  We can express the probabilities of each of the outcomes as follows:\n",
    "\n",
    "\\begin{align}\n",
    "P\\left(g^{\\left(a\\right)}_i = x_i \\Big| \\mathcal{W}^{\\left(a-1\\right)}\\right) &= \\frac{1}{N^{\\left(a-1\\right)}} \\Big|\\Big\\{w \\in \\mathcal{W}^{\\left(a-1\\right)}: g^{\\left(a\\right)}_i = w_i\\Big\\}\\Big| \\\\\n",
    "P\\left(g^{\\left(a\\right)}_i \\neq x_i, g^{\\left(a\\right)}_i \\in x \\Big| \\mathcal{W}^{\\left(a-1\\right)}\\right) &= \\frac{1}{N^{\\left(a-1\\right)}} \\Big|\\Big\\{w \\in \\mathcal{W}^{\\left(a-1\\right)}: \\left(g^{\\left(a\\right)}_i \\neq w_i\\right) \\land \\left(g^{\\left(a\\right)}_i \\in w\\right)\\Big\\}\\Big| \\\\\n",
    "P\\left(g^{\\left(a\\right)}_i \\notin x \\Big| \\mathcal{W}^{\\left(a-1\\right)}\\right) &= \\frac{1}{N^{\\left(a-1\\right)}} \\Big|\\Big\\{w \\in \\mathcal{W}^{\\left(a-1\\right)}: g^{\\left(a\\right)}_i \\notin w \\Big\\}\\Big| \\\\\n",
    "\\end{align}\n",
    "\n",
    "Where, of course, $P\\left(g_i=x_i | W\\right) + P\\left(g_i \\neq x_i, g_i \\in x | W\\right) + P\\left(g_i \\notin x | W\\right) = 1$\n",
    "\n",
    "When we receive the response to our guess we can update the set of candidate words:\n",
    "\n",
    "\\begin{align}\n",
    "g^{\\left(a\\right)}_i = x_i &\\implies \\mathcal{W}^{\\left(a\\right)} \\leftarrow \\Big\\{w \\in \\mathcal{W}^{\\left(a-1\\right)}: g^{\\left(a\\right)}_i = w_i \\Big\\} \\\\\n",
    "g^{\\left(a\\right)}_i \\neq x_i, g^{\\left(a\\right)}_i \\in x &\\implies \\mathcal{W}^{\\left(a\\right)} \\leftarrow \\Big\\{w \\in \\mathcal{W}^{\\left(a-1\\right)}: \\left(g^{\\left(a\\right)}_i \\neq w_i\\right) \\land \\left(g^{\\left(a\\right)}_i \\in w \\right) \\Big\\} \\\\\n",
    "g^{\\left(a\\right)}_i \\notin x &\\implies \\mathcal{W}^{\\left(a\\right)} \\leftarrow \\Big\\{ w \\in \\mathcal{W}^{\\left(a-1\\right)}: g^{\\left(a\\right)}_i \\notin w \\Big\\} \\\\\n",
    "\\end{align}\n",
    "\n",
    "In advance of receiving a response to our guess we can write the _conditional entropy_ of the resulting word-set as: $\\mathbf{H}\\left(\\mathcal{W}^{\\left(a-1\\right)} | x, g^{\\left(a\\right)}_i \\right)$.  For the case where $g^{\\left(a\\right)}_i = x_i$, for example, this becomes:\n",
    "\n",
    "$$\n",
    "\\mathbf{H}\\left(\\mathcal{W}^{\\left(a-1\\right)} | g^{\\left(a\\right)}_i = x_i\\right) = \\text{log}\\left(P\\left(g^{\\left(a\\right)}_i = x_i | \\mathcal{W}^{\\left(a-1\\right)}\\right) N^{\\left(a-1\\right)}\\right)\n",
    "$$\n",
    "\n",
    "Because our guesses always result in the set of candidate words becoming smaller, the entropy of the word-set will decrease with each guess.  The _information gain_ measures this decrease in entropy.  We calculate the information gain by considering all possible outcomes following our guess and weighting the resulting conditional entropy by the probability of the outcome:\n",
    "\n",
    "\\begin{align}\n",
    "\\mathbf{IG} \\left(g^{\\left(a\\right)}_i | \\mathcal{W}^{\\left(a-1\\right)}\\right) = &\\mathbf{H}\\left(\\mathcal{W}^{\\left(a-1\\right)}\\right)  \\\\\n",
    "&- P\\left(g^{\\left(a\\right)}_i = x_i | \\mathcal{W}^{\\left(a-1\\right)}\\right) \\mathbf{H}\\left(\\mathcal{W}^{\\left(a-1\\right)} | g^{\\left(a\\right)}_i = x_i \\right) \\\\\n",
    "&- P\\left(g^{\\left(a\\right)}_i \\neq x_i, g^{\\left(a\\right)}_i \\in x | \\mathcal{W}^{\\left(a-1\\right)}\\right) \\mathbf{H}\\left(\\mathcal{W}^{\\left(a-1\\right)} | \\left(g^{\\left(a\\right)}_i \\neq x_i\\right) \\land \\left(g^{\\left(a\\right)}_i \\in x\\right) \\right) \\\\\n",
    "&- P\\left(g^{\\left(a\\right)}_i \\notin x | \\mathcal{W}^{\\left(a-1\\right)}\\right) \\mathbf{H}\\left(\\mathcal{W}^{\\left(a-1\\right)} | g^{\\left(a\\right)}_i \\notin x \\right)\n",
    "\\end{align}\n",
    "\n",
    "So our strategy should be to evaluate each valid guess (each word in the current set of candidates) and choose the word which results in the highest information gain.\n",
    "\n",
    "Until now we have been considering a simplified version of the problem where we guess only a single letter.  If we guess more than one letter then we have to deal with joint probabilities.  The number of permutations increases, but the maths stays essentially the same.  For example, guessing two letters ($i$ and $j$) will result in the following, mutually exclusive and collectively exhaustive set of possible outcomes:\n",
    "\n",
    "\\begin{align}\n",
    "1 = \n",
    "&P\\left(g^{\\left(a\\right)}_i = x_i, g^{\\left(a\\right)}_j = x_j | \\mathcal{W}^{\\left(a-1\\right)}\\right) \\\\\n",
    "&+P\\left(g^{\\left(a\\right)}_i = x_i, g^{\\left(a\\right)}_j \\neq x_j, g^{\\left(a\\right)}_j \\in x | \\mathcal{W}^{\\left(a-1\\right)}\\right) \\\\\n",
    "&+P\\left(g^{\\left(a\\right)}_i = x_i, g^{\\left(a\\right)}_j \\notin x | \\mathcal{W}^{\\left(a-1\\right)}\\right) \\\\\n",
    "&+P\\left(g^{\\left(a\\right)}_i \\neq x_i, g^{\\left(a\\right)}_i \\in x, g^{\\left(a\\right)}_j = x_j | \\mathcal{W}^{\\left(a-1\\right)}\\right) \\\\\n",
    "&+P\\left(g^{\\left(a\\right)}_i \\neq x_i, g^{\\left(a\\right)}_i \\in x, g^{\\left(a\\right)}_j \\neq x_j, g^{\\left(a\\right)}_j \\in x | \\mathcal{W}^{\\left(a-1\\right)}\\right) \\\\\n",
    "&+P\\left(g^{\\left(a\\right)}_i \\neq x_i, g^{\\left(a\\right)}_i \\in x, g^{\\left(a\\right)}_j \\notin x | \\mathcal{W}^{\\left(a-1\\right)}\\right) \\\\\n",
    "&+P\\left(g^{\\left(a\\right)}_i \\notin x, g^{\\left(a\\right)}_j = x_j | \\mathcal{W}^{\\left(a-1\\right)}\\right) \\\\\n",
    "&+P\\left(g^{\\left(a\\right)}_i \\notin x, g^{\\left(a\\right)}_j \\neq x_j, g^{\\left(a\\right)}_j \\in x | \\mathcal{W}^{\\left(a-1\\right)}\\right) \\\\\n",
    "&+P\\left(g^{\\left(a\\right)}_i \\notin x, g^{\\left(a\\right)}_j \\notin x | \\mathcal{W}^{\\left(a-1\\right)}\\right) \\\\\n",
    "\\end{align}\n",
    "\n",
    "For a full guess of five letters the number of possible outcomes becomes $3^{5}=243$, but the evaluation of probabilities and conditional entropies remains exactly the same.\n",
    "\n",
    "Note that joint probabilities can be decomposed into the products of conditional probabilities.  Consider the first term from above:\n",
    "\n",
    "$$\n",
    "P\\left(g^{\\left(a\\right)}_i = x_i, g^{\\left(a\\right)}_j = x_j | \\mathcal{W}^{\\left(a-1\\right)}\\right) = \n",
    "P\\left(g^{\\left(a\\right)}_i = x_i | g^{\\left(a\\right)}_j = x_j, \\mathcal{W}^{\\left(a-1\\right)}\\right)\n",
    "P\\left(g^{\\left(a\\right)}_j = x_j | \\mathcal{W}^{\\left(a-1\\right)}\\right)\n",
    "$$\n",
    "\n",
    "The order of the conditional decomposition doesn't matter.  We'll use this fact during our implementation.\n",
    "\n",
    "Since our guess for each letter results in one of three outcomes we can define a function to compute each of them.  Let's call these functions $f_{=}$, $f_{\\neq, \\in}$ and $f_{\\notin}$.  They will accept a set of valid words, a letter and the position of the letter in the guess.  They will return a probability and the set of valid words that would result if the condition being evaluated by the function were true.  We can think of the returned set of words as having been conditioned on the function.\n",
    "\n",
    "Python offers us the handy _partial functions_ library, where we can hard-code certain of our parameters.  I'll write $f_{=}\\left(*;g^{\\left(a\\right)}_i, i\\right)$ to denote the partial function which evaluates the probability that $g^{\\left(a\\right)}_i = x_i$, where the $*$ denotes that the argument slot for the valid word-set has been left unfilled.  The set of partial functions $\\Big\\{f_{=}\\left(*;g^{\\left(a\\right)}_i, i\\right), f_{\\neq, \\in}\\left(*;g^{\\left(a\\right)}_i, i\\right), f_{\\notin}\\left(*;g^{\\left(a\\right)}_i, i\\right)\\Big\\}$ can therefore be used to evaluate the probabilities for $g^{\\left(a\\right)}_i$.  We will have five such sets for each guess.\n",
    "\n",
    "To calculate all of the joint probabilities we need to take all 243 distinct combinations from these five sets and evaluate the partial functions _in any order_.  We pass $\\mathcal{W}^{\\left(a-1\\right)}$ into the first function - call it $f_1$ - and it returns $\\mathcal{W}^{\\left(a-1\\right)} | f_1$.  We then pass $\\mathcal{W}^{\\left(a-1\\right)} | f_1$ into the second partial function and it returns $\\mathcal{W}^{\\left(a-1\\right)} | f_1, f_2$, and so on.\n",
    "\n",
    "At the end of the process we will have five (conditional) probabilities (which can be multiplied together to get the joint probability) and a final set of words, $\\mathcal{W}^{\\left(a-1\\right)} | f_1, f_2, f_3, f_4, f_5$ which we can use to compute the conditional entropy of the outcome.  Taking the probabilities and conditional entropies across all combinations of partial functions we can compute the information gain of the guess.\n",
    "\n",
    "We do this over all valid guesses and select the one with the highest information gain."
   ]
  },
  {
   "cell_type": "code",
   "execution_count": 1,
   "id": "ec79c5b2-88b4-4d90-9fa5-f05b38f335be",
   "metadata": {},
   "outputs": [
    {
     "name": "stdout",
     "output_type": "stream",
     "text": [
      "There are 2315 possible solutions.\n"
     ]
    }
   ],
   "source": [
    "import pandas as pd\n",
    "\n",
    "words = pd.read_csv('valid_solutions.csv').to_numpy().ravel()\n",
    "N = len(words)\n",
    "\n",
    "print(f\"There are {N} possible solutions.\")"
   ]
  },
  {
   "cell_type": "code",
   "execution_count": 2,
   "id": "9d5a4582-5525-4d62-8d9d-199ab9e223a6",
   "metadata": {},
   "outputs": [],
   "source": [
    "import numpy as np\n",
    "\n",
    "W = np.array([list(word) for word in words])"
   ]
  },
  {
   "cell_type": "markdown",
   "id": "fd97714e-6f6c-4ce6-9e51-75c19f8746b1",
   "metadata": {},
   "source": [
    "Functions $f_{=}$, $f_{\\neq, \\in}$ and $f_{\\notin}$"
   ]
  },
  {
   "cell_type": "code",
   "execution_count": 3,
   "id": "a4c9fcc4-08b6-4bb2-9ad3-b9e405b1966b",
   "metadata": {},
   "outputs": [],
   "source": [
    "def f_eq(W_in, g_i, i):\n",
    "    N = W_in.shape[0]\n",
    "    matches = W_in[:, i] == g_i\n",
    "    W_out = W_in[matches]\n",
    "    n = W_out.shape[0]\n",
    "    return n/N, W_out"
   ]
  },
  {
   "cell_type": "code",
   "execution_count": 4,
   "id": "5d1b386c-8fff-4679-9ef3-cd8d9448031c",
   "metadata": {},
   "outputs": [],
   "source": [
    "def f_neq_in(W_in, g_i, i):\n",
    "    N = W_in.shape[0]\n",
    "    matches = (W_in[:, i] != g_i) * (W_in == g_i).sum(axis=1).astype(bool)\n",
    "    W_out = W_in[matches]\n",
    "    n = W_out.shape[0]\n",
    "    return n/N, W_out"
   ]
  },
  {
   "cell_type": "code",
   "execution_count": 5,
   "id": "f38c4d19-b295-416a-82ba-e6b98d3a9c8e",
   "metadata": {},
   "outputs": [],
   "source": [
    "def f_nin(W_in, g_i, i):\n",
    "    N = W_in.shape[0]\n",
    "    matches = (W_in == g_i).sum(axis=1) == 0\n",
    "    W_out = W_in[matches]\n",
    "    n = W_out.shape[0]\n",
    "    return n/N, W_out"
   ]
  },
  {
   "cell_type": "markdown",
   "id": "3173f639-4008-43a2-bd7c-66c5c5e79e81",
   "metadata": {},
   "source": [
    "We can demonstrate that these three functions cover all outcomes:"
   ]
  },
  {
   "cell_type": "code",
   "execution_count": 6,
   "id": "d5177485-530b-4f45-a649-83db43c0d405",
   "metadata": {
    "tags": []
   },
   "outputs": [],
   "source": [
    "g_i = 'k'\n",
    "i = 0\n",
    "\n",
    "p_eq, _ = f_eq(W, g_i, i)\n",
    "p_neq_in, _ = f_neq_in(W, g_i, i)\n",
    "p_nin, _ = f_nin(W, g_i, i)\n",
    "\n",
    "assert np.isclose(p_eq + p_neq_in + p_nin, 1)"
   ]
  },
  {
   "cell_type": "markdown",
   "id": "332965ec-33c4-4395-8023-2a38b1dd918a",
   "metadata": {},
   "source": [
    "Generate all combinations of partial functions for each letter of the guess"
   ]
  },
  {
   "cell_type": "code",
   "execution_count": 7,
   "id": "45bd1f1f-25a5-473b-96c1-ffdfae128b51",
   "metadata": {},
   "outputs": [],
   "source": [
    "from functools import partial\n",
    "from itertools import product\n",
    "\n",
    "def joint_prob_functions(g):\n",
    "\n",
    "    func_list = []\n",
    "\n",
    "    for i in range(5):\n",
    "        func_list.append([\n",
    "            partial(f_eq, g_i=g[i], i=i),\n",
    "            partial(f_neq_in, g_i=g[i], i=i),\n",
    "            partial(f_nin, g_i=g[i], i=i)\n",
    "        ])\n",
    "\n",
    "    yield from product(*func_list)"
   ]
  },
  {
   "cell_type": "markdown",
   "id": "68321275-0bc4-439e-b387-3582a57c6367",
   "metadata": {},
   "source": [
    "This function evaluates a joint probability by successive conditioning."
   ]
  },
  {
   "cell_type": "code",
   "execution_count": 8,
   "id": "57e5e068-5557-4196-913b-0ee5e485231b",
   "metadata": {},
   "outputs": [],
   "source": [
    "def evaluate_joint_prob(W, func_list):\n",
    "    \n",
    "    probs = []\n",
    "\n",
    "    for f in func_list:\n",
    "        N = W.shape[0]\n",
    "        if N == 0:\n",
    "            break\n",
    "        else:\n",
    "            p, W = f(W)\n",
    "            probs.append(p)\n",
    "\n",
    "    return np.product(probs)"
   ]
  },
  {
   "cell_type": "markdown",
   "id": "1abb3614-c4e4-4282-9eda-f79f2c6c8de5",
   "metadata": {},
   "source": [
    "Again we can show that total probability is conserved across our $243$ terms."
   ]
  },
  {
   "cell_type": "code",
   "execution_count": 9,
   "id": "58e4e546-b5ff-4d13-8a32-5f4fb67754e3",
   "metadata": {},
   "outputs": [
    {
     "data": {
      "text/plain": [
       "True"
      ]
     },
     "execution_count": 9,
     "metadata": {},
     "output_type": "execute_result"
    }
   ],
   "source": [
    "np.isclose(\n",
    "    np.sum([evaluate_joint_prob(W, func_list) for func_list in joint_prob_functions(words[0])]),\n",
    "    1\n",
    ")"
   ]
  },
  {
   "cell_type": "markdown",
   "id": "319cc300-f63a-431b-8a4b-f7895de64b6f",
   "metadata": {},
   "source": [
    "Calculates the conditional entropy of a set of words.  We guard against the case where there is only a single word in the result and return $0$ when this happens."
   ]
  },
  {
   "cell_type": "code",
   "execution_count": 10,
   "id": "77ca2b08-228f-47ef-99ae-6fc6f1b5e2dc",
   "metadata": {},
   "outputs": [],
   "source": [
    "def H(p, N):\n",
    "    if p < 1./N:\n",
    "        return 0\n",
    "    else:\n",
    "        return np.log(p*N)"
   ]
  },
  {
   "cell_type": "markdown",
   "id": "da055f66-73b9-4d2a-bd24-ff0c66263e1a",
   "metadata": {},
   "source": [
    "Multiplying the joint probabilities and the conditional entropies gives us the information gain."
   ]
  },
  {
   "cell_type": "code",
   "execution_count": 11,
   "id": "83910257-9b18-4fc0-b4ea-e6ebee6fd419",
   "metadata": {},
   "outputs": [],
   "source": [
    "def evaluate_IG(g, W):    \n",
    "    N = W.shape[0]\n",
    "    H_0 = np.log(N)\n",
    "    joint_probs = np.array([evaluate_joint_prob(W, func_list) for func_list in joint_prob_functions(g)])\n",
    "    cond_entropies = np.array([H(p, N) for p in joint_probs])\n",
    "    return H_0 - np.sum(joint_probs * cond_entropies)"
   ]
  },
  {
   "cell_type": "markdown",
   "id": "cfca4f23-222f-424f-9393-af32ebf27b8a",
   "metadata": {},
   "source": [
    "When we make our first guess we have no clues and we are working with $\\mathcal{W}^{\\left(0\\right)}$.  The optimal starting guess will be the same for every game we play.  Let's find it now."
   ]
  },
  {
   "cell_type": "code",
   "execution_count": 12,
   "id": "61a77892-7f18-4038-bf6e-f1f3794fcfef",
   "metadata": {
    "tags": []
   },
   "outputs": [
    {
     "name": "stderr",
     "output_type": "stream",
     "text": [
      "100%|██████████| 2315/2315 [03:58<00:00,  9.69it/s]\n"
     ]
    }
   ],
   "source": [
    "from tqdm import tqdm\n",
    "\n",
    "first_guess_df = (\n",
    "    pd.DataFrame([{'word': g, 'IG': evaluate_IG(g, W)} for g in tqdm(words)])\n",
    "    .sort_values('IG', ascending=False)    \n",
    ")"
   ]
  },
  {
   "cell_type": "code",
   "execution_count": 13,
   "id": "b764701f-45fc-44a3-aa59-0383a01b5725",
   "metadata": {},
   "outputs": [
    {
     "data": {
      "text/html": [
       "<div>\n",
       "<style scoped>\n",
       "    .dataframe tbody tr th:only-of-type {\n",
       "        vertical-align: middle;\n",
       "    }\n",
       "\n",
       "    .dataframe tbody tr th {\n",
       "        vertical-align: top;\n",
       "    }\n",
       "\n",
       "    .dataframe thead th {\n",
       "        text-align: right;\n",
       "    }\n",
       "</style>\n",
       "<table border=\"1\" class=\"dataframe\">\n",
       "  <thead>\n",
       "    <tr style=\"text-align: right;\">\n",
       "      <th></th>\n",
       "      <th>word</th>\n",
       "      <th>IG</th>\n",
       "    </tr>\n",
       "  </thead>\n",
       "  <tbody>\n",
       "    <tr>\n",
       "      <th>1534</th>\n",
       "      <td>raise</td>\n",
       "      <td>4.074257</td>\n",
       "    </tr>\n",
       "    <tr>\n",
       "      <th>1777</th>\n",
       "      <td>slate</td>\n",
       "      <td>4.058914</td>\n",
       "    </tr>\n",
       "    <tr>\n",
       "      <th>462</th>\n",
       "      <td>crate</td>\n",
       "      <td>4.044426</td>\n",
       "    </tr>\n",
       "    <tr>\n",
       "      <th>1043</th>\n",
       "      <td>irate</td>\n",
       "      <td>4.042016</td>\n",
       "    </tr>\n",
       "    <tr>\n",
       "      <th>2093</th>\n",
       "      <td>trace</td>\n",
       "      <td>4.041428</td>\n",
       "    </tr>\n",
       "    <tr>\n",
       "      <th>105</th>\n",
       "      <td>arise</td>\n",
       "      <td>4.034768</td>\n",
       "    </tr>\n",
       "    <tr>\n",
       "      <th>1908</th>\n",
       "      <td>stare</td>\n",
       "      <td>4.025300</td>\n",
       "    </tr>\n",
       "    <tr>\n",
       "      <th>1819</th>\n",
       "      <td>snare</td>\n",
       "      <td>3.999521</td>\n",
       "    </tr>\n",
       "    <tr>\n",
       "      <th>108</th>\n",
       "      <td>arose</td>\n",
       "      <td>3.997932</td>\n",
       "    </tr>\n",
       "    <tr>\n",
       "      <th>1115</th>\n",
       "      <td>least</td>\n",
       "      <td>3.986737</td>\n",
       "    </tr>\n",
       "  </tbody>\n",
       "</table>\n",
       "</div>"
      ],
      "text/plain": [
       "       word        IG\n",
       "1534  raise  4.074257\n",
       "1777  slate  4.058914\n",
       "462   crate  4.044426\n",
       "1043  irate  4.042016\n",
       "2093  trace  4.041428\n",
       "105   arise  4.034768\n",
       "1908  stare  4.025300\n",
       "1819  snare  3.999521\n",
       "108   arose  3.997932\n",
       "1115  least  3.986737"
      ]
     },
     "execution_count": 13,
     "metadata": {},
     "output_type": "execute_result"
    }
   ],
   "source": [
    "first_guess_df.head(10)"
   ]
  },
  {
   "cell_type": "markdown",
   "id": "65c91fd7-a30b-4263-802a-7d81076584b2",
   "metadata": {},
   "source": [
    "This makes sense.  \"raise\" contains three vowels and two of the most commonly used consonants in English."
   ]
  },
  {
   "cell_type": "code",
   "execution_count": 14,
   "id": "d58d18a1-df74-4499-bb5f-0a09040a0446",
   "metadata": {},
   "outputs": [],
   "source": [
    "first_guess = 'raise'"
   ]
  },
  {
   "cell_type": "markdown",
   "id": "d000e55b-866f-4d09-b75f-982cf69c597a",
   "metadata": {},
   "source": [
    "This function checks a guess and returns, for each letter in turn: a partial function which enables us to condition the set of valid words on the clue; a function which we can use to print the letter in a colour - similar to the Wordle game itself."
   ]
  },
  {
   "cell_type": "code",
   "execution_count": 15,
   "id": "9684e225-140b-4285-8d5d-df79c715ae56",
   "metadata": {},
   "outputs": [],
   "source": [
    "from termcolor import colored\n",
    "from more_itertools import distribute\n",
    "\n",
    "def check_guess(g, x):\n",
    "    for i in range(5):\n",
    "        if g[i] == x[i]:\n",
    "            yield partial(f_eq, g_i=g[i], i=i)\n",
    "            yield colored(g[i].upper(), 'green', attrs=['bold'])\n",
    "        elif g[i] in x and g[i] != x[i]:\n",
    "            yield partial(f_neq_in, g_i=g[i], i=i)\n",
    "            yield colored(g[i].upper(), 'yellow', attrs=['bold'])\n",
    "        else:\n",
    "            yield partial(f_nin, g_i=g[i], i=i)\n",
    "            yield colored(g[i].upper(), 'grey', attrs=['bold'])"
   ]
  },
  {
   "cell_type": "markdown",
   "id": "92e720f4-8aab-44d1-944c-545e0ab4dc83",
   "metadata": {},
   "source": [
    "Given a set of partial functions from `check_guess` we can apply them all to shrink our set of valid words using this function."
   ]
  },
  {
   "cell_type": "code",
   "execution_count": 16,
   "id": "3511f94c-6e71-4289-97da-e469501e444c",
   "metadata": {},
   "outputs": [],
   "source": [
    "def filter_valid_set(filter_funcs, W):\n",
    "    \n",
    "    for f in filter_funcs:\n",
    "        _, W = f(W)\n",
    "        \n",
    "    return W"
   ]
  },
  {
   "cell_type": "markdown",
   "id": "814c62b2-7851-4ddb-9236-12225a14a56a",
   "metadata": {},
   "source": [
    "This function plays the game of Wordle, using all of the functions we've defined above.  If it finds the answer it returns the number of guesses it took.  If it fails to find the answer it returns a -1."
   ]
  },
  {
   "cell_type": "code",
   "execution_count": 17,
   "id": "cce7a9d9-be0b-4c21-a0e5-5653a3c60a4f",
   "metadata": {},
   "outputs": [],
   "source": [
    "def play_wordle(words, answer=None, verbose=True):\n",
    "    \n",
    "    if not answer:\n",
    "        answer = np.random.choice(words)\n",
    "    else:\n",
    "        assert answer in words, \"The answer must be a valid word!\"\n",
    "    \n",
    "    W = np.array([list(word) for word in words])\n",
    "    \n",
    "    if verbose:\n",
    "        print(f'ANSWER is \"{answer}\" \\n')\n",
    "    \n",
    "    for attempt in range(1, 6):\n",
    "        \n",
    "        if verbose:\n",
    "            print(f\"ATTEMPT #{attempt}\")\n",
    "            print(\"----------\")\n",
    "        \n",
    "        if attempt == 1:\n",
    "            guess = first_guess\n",
    "        else:\n",
    "            IG = np.array([evaluate_IG(g, W) for g in words])\n",
    "            guess = words[np.argmax(IG)]\n",
    "\n",
    "        if verbose:\n",
    "            print(f'GUESSING: \"{guess}\"')\n",
    "        \n",
    "        if guess == answer:\n",
    "            if verbose:\n",
    "                print(f\"\\nWe solved the Wordle in {attempt} attempts.\")\n",
    "            return attempt\n",
    "\n",
    "        # 'distribute' takes alternate items from an iterator and places them into new iterators.\n",
    "        # Here we use it to create an iterable of functions and an iterable of printable results.\n",
    "        filter_funcs, printable_result = distribute(2, check_guess(guess, answer))  \n",
    "        W = filter_valid_set(filter_funcs, W)        \n",
    "        words = [''.join(word) for word in W]\n",
    "        \n",
    "        if verbose:\n",
    "            print(*printable_result)\n",
    "            print(f\"{W.shape[0]} valid choices remain.\\n\")        \n",
    "\n",
    "    if verbose:\n",
    "        print(f\"\\nWe failed to solve the Wordle.\")\n",
    "\n",
    "    return -1"
   ]
  },
  {
   "cell_type": "code",
   "execution_count": 18,
   "id": "90c9594d-df39-412b-9791-e4a7d23df93b",
   "metadata": {},
   "outputs": [
    {
     "name": "stdout",
     "output_type": "stream",
     "text": [
      "ANSWER is \"tenet\" \n",
      "\n",
      "ATTEMPT #1\n",
      "----------\n",
      "GUESSING: \"raise\"\n",
      "\u001b[1m\u001b[30mR\u001b[0m \u001b[1m\u001b[30mA\u001b[0m \u001b[1m\u001b[30mI\u001b[0m \u001b[1m\u001b[30mS\u001b[0m \u001b[1m\u001b[33mE\u001b[0m\n",
      "121 valid choices remain.\n",
      "\n",
      "ATTEMPT #2\n",
      "----------\n",
      "GUESSING: \"olden\"\n",
      "\u001b[1m\u001b[30mO\u001b[0m \u001b[1m\u001b[30mL\u001b[0m \u001b[1m\u001b[30mD\u001b[0m \u001b[1m\u001b[32mE\u001b[0m \u001b[1m\u001b[33mN\u001b[0m\n",
      "2 valid choices remain.\n",
      "\n",
      "ATTEMPT #3\n",
      "----------\n",
      "GUESSING: \"tenet\"\n",
      "\n",
      "We solved the Wordle in 3 attempts.\n"
     ]
    },
    {
     "data": {
      "text/plain": [
       "3"
      ]
     },
     "execution_count": 18,
     "metadata": {},
     "output_type": "execute_result"
    }
   ],
   "source": [
    "# Play with a random word\n",
    "play_wordle(words)"
   ]
  },
  {
   "cell_type": "markdown",
   "id": "a109bd1e-cf65-40e1-bcbb-2141ef949023",
   "metadata": {},
   "source": [
    "Play Wordle, using every valid answer in turn.  Record the success / failure of the algorithm and the number of guesses it took."
   ]
  },
  {
   "cell_type": "code",
   "execution_count": 19,
   "id": "dfc40a5a-7242-4196-8527-7dde09b10175",
   "metadata": {
    "tags": []
   },
   "outputs": [
    {
     "name": "stderr",
     "output_type": "stream",
     "text": [
      "100%|██████████| 2315/2315 [32:11<00:00,  1.20it/s] \n"
     ]
    }
   ],
   "source": [
    "scores = {word: play_wordle(words, word, False) for word in tqdm(words)}"
   ]
  },
  {
   "cell_type": "code",
   "execution_count": 20,
   "id": "40dbdd14-f021-49c5-911a-c140718b9ba2",
   "metadata": {},
   "outputs": [
    {
     "name": "stdout",
     "output_type": "stream",
     "text": [
      "\n",
      "Results\n",
      "-------\n",
      "Games played:\t\t\t2315\n",
      "Successes:\t\t\t2254\t(97.37%)\n",
      "Failures:\t\t\t61\t(2.63%)\n",
      "Mean # Guesses per Success:\t3.54\n",
      "Mean # Guesses Overall:\t\t3.61\n",
      "\n"
     ]
    }
   ],
   "source": [
    "n_games = len(scores)\n",
    "n_successes = np.sum(np.array(list(scores.values())) != -1)\n",
    "n_failures = n_games - n_successes\n",
    "pct_successes = 100 * n_successes/n_games\n",
    "pct_failures = 100 - pct_successes\n",
    "mean_guesses_successes = np.mean([v for v in scores.values() if v != -1])\n",
    "mean_guesses_overall = ((mean_guesses_successes*n_successes) + (6 * n_failures)) / n_games\n",
    "\n",
    "print(f\"\"\"\n",
    "Results\n",
    "-------\n",
    "Games played:\\t\\t\\t{n_games}\n",
    "Successes:\\t\\t\\t{n_successes}\\t({np.round(pct_successes, 2)}%)\n",
    "Failures:\\t\\t\\t{n_failures}\\t({np.round(pct_failures, 2)}%)\n",
    "Mean # Guesses per Success:\\t{np.round(mean_guesses_successes, 2)}\n",
    "Mean # Guesses Overall:\\t\\t{np.round(mean_guesses_overall, 2)}\n",
    "\"\"\")"
   ]
  },
  {
   "cell_type": "markdown",
   "id": "bb17d6c7-30ef-451d-bd63-350765bc9194",
   "metadata": {},
   "source": [
    "It can be interesting to look at the words which the algorithm failed to guess correctly."
   ]
  },
  {
   "cell_type": "code",
   "execution_count": 21,
   "id": "ce69f319-9072-4690-bcc0-163d88bd2553",
   "metadata": {},
   "outputs": [
    {
     "data": {
      "text/plain": [
       "'awake, boozy, boxer, broom, craze, crazy, ember, fixer, foyer, frown, gazer, goner, grave, graze, greed, grill, grove, gully, hilly, jolly, latch, later, lover, mammy, manly, match, merry, minty, musty, paddy, patty, pixie, poker, power, prize, proxy, putty, shave, stare, store, super, swarm, swore, tally, taste, tatty, tight, timer, tried, truth, vaunt, vouch, waste, watch, water, waver, whack, wight, willy, wound, wreak'"
      ]
     },
     "execution_count": 21,
     "metadata": {},
     "output_type": "execute_result"
    }
   ],
   "source": [
    "', '.join([k for k,v in scores.items() if v == -1])"
   ]
  },
  {
   "cell_type": "markdown",
   "id": "a4c04292-a920-4ca1-891a-0aa65bd1b9eb",
   "metadata": {},
   "source": [
    "An easy choice for further study..."
   ]
  },
  {
   "cell_type": "code",
   "execution_count": 22,
   "id": "7fceb193-7b60-42aa-9037-5a80270dc95d",
   "metadata": {},
   "outputs": [
    {
     "name": "stdout",
     "output_type": "stream",
     "text": [
      "ANSWER is \"willy\" \n",
      "\n",
      "ATTEMPT #1\n",
      "----------\n",
      "GUESSING: \"raise\"\n",
      "\u001b[1m\u001b[30mR\u001b[0m \u001b[1m\u001b[30mA\u001b[0m \u001b[1m\u001b[33mI\u001b[0m \u001b[1m\u001b[30mS\u001b[0m \u001b[1m\u001b[30mE\u001b[0m\n",
      "107 valid choices remain.\n",
      "\n",
      "ATTEMPT #2\n",
      "----------\n",
      "GUESSING: \"pilot\"\n",
      "\u001b[1m\u001b[30mP\u001b[0m \u001b[1m\u001b[32mI\u001b[0m \u001b[1m\u001b[32mL\u001b[0m \u001b[1m\u001b[30mO\u001b[0m \u001b[1m\u001b[30mT\u001b[0m\n",
      "7 valid choices remain.\n",
      "\n",
      "ATTEMPT #3\n",
      "----------\n",
      "GUESSING: \"filly\"\n",
      "\u001b[1m\u001b[30mF\u001b[0m \u001b[1m\u001b[32mI\u001b[0m \u001b[1m\u001b[32mL\u001b[0m \u001b[1m\u001b[32mL\u001b[0m \u001b[1m\u001b[32mY\u001b[0m\n",
      "4 valid choices remain.\n",
      "\n",
      "ATTEMPT #4\n",
      "----------\n",
      "GUESSING: \"billy\"\n",
      "\u001b[1m\u001b[30mB\u001b[0m \u001b[1m\u001b[32mI\u001b[0m \u001b[1m\u001b[32mL\u001b[0m \u001b[1m\u001b[32mL\u001b[0m \u001b[1m\u001b[32mY\u001b[0m\n",
      "3 valid choices remain.\n",
      "\n",
      "ATTEMPT #5\n",
      "----------\n",
      "GUESSING: \"dilly\"\n",
      "\u001b[1m\u001b[30mD\u001b[0m \u001b[1m\u001b[32mI\u001b[0m \u001b[1m\u001b[32mL\u001b[0m \u001b[1m\u001b[32mL\u001b[0m \u001b[1m\u001b[32mY\u001b[0m\n",
      "2 valid choices remain.\n",
      "\n",
      "\n",
      "We failed to solve the Wordle.\n"
     ]
    }
   ],
   "source": [
    "_ = play_wordle(words, 'willy')"
   ]
  },
  {
   "cell_type": "markdown",
   "id": "e31172e6-12c2-4949-8446-cf6a2d4b5d0b",
   "metadata": {},
   "source": [
    "It's clear to see that the most difficult words are those where a common prefix or suffix is shared by many words.  There is no smarter way to pick among the valid answers than to try them one at a time.  From this we conclude that it is impossible to guarantee being able to solve every Wordle."
   ]
  },
  {
   "cell_type": "code",
   "execution_count": null,
   "id": "20c89c87-9377-4eb0-873f-339e7761fc3a",
   "metadata": {},
   "outputs": [],
   "source": []
  }
 ],
 "metadata": {
  "kernelspec": {
   "display_name": "Python 3 (ipykernel)",
   "language": "python",
   "name": "python3"
  },
  "language_info": {
   "codemirror_mode": {
    "name": "ipython",
    "version": 3
   },
   "file_extension": ".py",
   "mimetype": "text/x-python",
   "name": "python",
   "nbconvert_exporter": "python",
   "pygments_lexer": "ipython3",
   "version": "3.9.13"
  }
 },
 "nbformat": 4,
 "nbformat_minor": 5
}
